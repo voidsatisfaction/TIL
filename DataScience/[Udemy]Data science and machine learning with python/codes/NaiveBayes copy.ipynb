{
 "cells": [
  {
   "cell_type": "markdown",
   "metadata": {},
   "source": [
    "# Naive Bayes (the easy way)"
   ]
  },
  {
   "cell_type": "markdown",
   "metadata": {},
   "source": [
    "We'll cheat by using sklearn.naive_bayes to train a spam classifier! Most of the code is just loading our training data into a pandas DataFrame that we can play with:"
   ]
  },
  {
   "cell_type": "code",
   "execution_count": 65,
   "metadata": {},
   "outputs": [
    {
     "name": "stdout",
     "output_type": "stream",
     "text": [
      "122\n",
      "347\n"
     ]
    }
   ],
   "source": [
    "import os\n",
    "import io\n",
    "import numpy as np\n",
    "from pandas import DataFrame\n",
    "from sklearn.feature_extraction.text import CountVectorizer\n",
    "from sklearn.naive_bayes import MultinomialNB\n",
    "\n",
    "def readFiles(path):\n",
    "    for root, dirnames, filenames in os.walk(path):\n",
    "        for filename in filenames:\n",
    "            path = os.path.join(root, filename)\n",
    "\n",
    "            inBody = False\n",
    "            lines = []\n",
    "            f = io.open(path, 'r', encoding='latin1')\n",
    "            for line in f:\n",
    "                if inBody:\n",
    "                    lines.append(line)\n",
    "                elif line == '\\n':\n",
    "                    inBody = True\n",
    "            f.close()\n",
    "            message = '\\n'.join(lines)\n",
    "            yield path, message\n",
    "\n",
    "\n",
    "def dataFrameFromDirectory(path, classification):\n",
    "    rows = []\n",
    "    index = []\n",
    "    for filename, message in readFiles(path):\n",
    "        rows.append({'message': message, 'class': classification})\n",
    "        index.append(filename)\n",
    "\n",
    "    return DataFrame(rows, index=index)\n",
    "\n",
    "train_data = DataFrame({'message': [], 'class': []}) # dataframe has two columns 'message', 'class'\n",
    "test_data = DataFrame({'message': [], 'class': []})\n",
    "\n",
    "train_data = train_data.append(dataFrameFromDirectory('./emails/spam', 'spam'))\n",
    "train_data = train_data.append(dataFrameFromDirectory('./emails/ham', 'ham'))\n",
    "test_data = test_data.append(dataFrameFromDirectory('./emails/test_spam', 'spam'))\n",
    "print(len(test_data['message']))\n",
    "test_data = test_data.append(dataFrameFromDirectory('./emails/test_ham', 'ham'))\n",
    "print(len(test_data['message']))\n"
   ]
  },
  {
   "cell_type": "markdown",
   "metadata": {},
   "source": [
    "Let's have a look at that DataFrame:"
   ]
  },
  {
   "cell_type": "code",
   "execution_count": 62,
   "metadata": {},
   "outputs": [
    {
     "data": {
      "text/html": [
       "<div>\n",
       "<style scoped>\n",
       "    .dataframe tbody tr th:only-of-type {\n",
       "        vertical-align: middle;\n",
       "    }\n",
       "\n",
       "    .dataframe tbody tr th {\n",
       "        vertical-align: top;\n",
       "    }\n",
       "\n",
       "    .dataframe thead th {\n",
       "        text-align: right;\n",
       "    }\n",
       "</style>\n",
       "<table border=\"1\" class=\"dataframe\">\n",
       "  <thead>\n",
       "    <tr style=\"text-align: right;\">\n",
       "      <th></th>\n",
       "      <th>class</th>\n",
       "      <th>message</th>\n",
       "    </tr>\n",
       "  </thead>\n",
       "  <tbody>\n",
       "    <tr>\n",
       "      <th>./emails/spam/00249.5f45607c1bffe89f60ba1ec9f878039a</th>\n",
       "      <td>spam</td>\n",
       "      <td>Dear Homeowner,\\n\\n \\n\\nInterest Rates are at ...</td>\n",
       "    </tr>\n",
       "    <tr>\n",
       "      <th>./emails/spam/00373.ebe8670ac56b04125c25100a36ab0510</th>\n",
       "      <td>spam</td>\n",
       "      <td>ATTENTION: This is a MUST for ALL Computer Use...</td>\n",
       "    </tr>\n",
       "    <tr>\n",
       "      <th>./emails/spam/00214.1367039e50dc6b7adb0f2aa8aba83216</th>\n",
       "      <td>spam</td>\n",
       "      <td>This is a multi-part message in MIME format.\\n...</td>\n",
       "    </tr>\n",
       "    <tr>\n",
       "      <th>./emails/spam/00210.050ffd105bd4e006771ee63cabc59978</th>\n",
       "      <td>spam</td>\n",
       "      <td>IMPORTANT INFORMATION:\\n\\n\\n\\nThe new domain n...</td>\n",
       "    </tr>\n",
       "    <tr>\n",
       "      <th>./emails/spam/00033.9babb58d9298daa2963d4f514193d7d6</th>\n",
       "      <td>spam</td>\n",
       "      <td>This is the bottom line.  If you can GIVE AWAY...</td>\n",
       "    </tr>\n",
       "  </tbody>\n",
       "</table>\n",
       "</div>"
      ],
      "text/plain": [
       "                                                   class  \\\n",
       "./emails/spam/00249.5f45607c1bffe89f60ba1ec9f87...  spam   \n",
       "./emails/spam/00373.ebe8670ac56b04125c25100a36a...  spam   \n",
       "./emails/spam/00214.1367039e50dc6b7adb0f2aa8aba...  spam   \n",
       "./emails/spam/00210.050ffd105bd4e006771ee63cabc...  spam   \n",
       "./emails/spam/00033.9babb58d9298daa2963d4f51419...  spam   \n",
       "\n",
       "                                                                                              message  \n",
       "./emails/spam/00249.5f45607c1bffe89f60ba1ec9f87...  Dear Homeowner,\\n\\n \\n\\nInterest Rates are at ...  \n",
       "./emails/spam/00373.ebe8670ac56b04125c25100a36a...  ATTENTION: This is a MUST for ALL Computer Use...  \n",
       "./emails/spam/00214.1367039e50dc6b7adb0f2aa8aba...  This is a multi-part message in MIME format.\\n...  \n",
       "./emails/spam/00210.050ffd105bd4e006771ee63cabc...  IMPORTANT INFORMATION:\\n\\n\\n\\nThe new domain n...  \n",
       "./emails/spam/00033.9babb58d9298daa2963d4f51419...  This is the bottom line.  If you can GIVE AWAY...  "
      ]
     },
     "execution_count": 62,
     "metadata": {},
     "output_type": "execute_result"
    }
   ],
   "source": [
    "data.head()"
   ]
  },
  {
   "cell_type": "markdown",
   "metadata": {},
   "source": [
    "Now we will use a CountVectorizer to split up each message into its list of words, and throw that into a MultinomialNB classifier. Call fit() and we've got a trained spam filter ready to go! It's just that easy."
   ]
  },
  {
   "cell_type": "code",
   "execution_count": 63,
   "metadata": {},
   "outputs": [
    {
     "data": {
      "text/plain": [
       "MultinomialNB(alpha=1.0, class_prior=None, fit_prior=True)"
      ]
     },
     "execution_count": 63,
     "metadata": {},
     "output_type": "execute_result"
    }
   ],
   "source": [
    "vectorizer = CountVectorizer()\n",
    "# convert data to number and count how many times certain word occured\n",
    "counts = vectorizer.fit_transform(train_data['message'].values) \n",
    "\n",
    "classifier = MultinomialNB()\n",
    "targets = train_data['class'].values\n",
    "classifier.fit(counts, targets)"
   ]
  },
  {
   "cell_type": "markdown",
   "metadata": {},
   "source": [
    "Let's try it out:"
   ]
  },
  {
   "cell_type": "code",
   "execution_count": 75,
   "metadata": {},
   "outputs": [
    {
     "name": "stdout",
     "output_type": "stream",
     "text": [
      "0.6885245901639344 0.0\n"
     ]
    }
   ],
   "source": [
    "def howMuchSpamPercent(categorized):\n",
    "    total = len(categorized)\n",
    "    spam = 0\n",
    "    for result in categorized:\n",
    "        if result == 'spam':\n",
    "            spam += 1\n",
    "    return spam / total\n",
    "\n",
    "examples = [\n",
    "    'Free Viagra now!!!',\n",
    "    \"Hi Bob, how about a game of golf tomorrow?\",\n",
    "    \"hello, you are chosen as a lucky guy!! buy this product now\",\n",
    "    \"You can get it at:\",\n",
    "    \"buy now or you will die\",\n",
    "    \"Rx Shopping Service Brings You our Newest Product:\",\n",
    "    \"100% FREE\"\n",
    "]\n",
    "\n",
    "spam_emails = test_data['message'][:122]\n",
    "ham_emails = test_data['message'][122:]\n",
    "\n",
    "spam_example_counts = vectorizer.transform(spam_emails)\n",
    "ham_example_counts = vectorizer.transform(ham_emails)\n",
    "out_of_spam_predictions = classifier.predict(spam_example_counts)\n",
    "out_of_ham_predictions = classifier.predict(ham_example_counts)\n",
    "out_of_spam_predictions\n",
    "print(howMuchSpamPercent(out_of_spam_predictions), howMuchSpamPercent(out_of_ham_predictions))"
   ]
  },
  {
   "cell_type": "markdown",
   "metadata": {},
   "source": [
    "## Activity"
   ]
  },
  {
   "cell_type": "markdown",
   "metadata": {},
   "source": [
    "Our data set is small, so our spam classifier isn't actually very good. Try running some different test emails through it and see if you get the results you expect.\n",
    "\n",
    "If you really want to challenge yourself, try applying train/test to this spam classifier - see how well it can predict some subset of the ham and spam emails."
   ]
  },
  {
   "cell_type": "code",
   "execution_count": null,
   "metadata": {},
   "outputs": [],
   "source": []
  }
 ],
 "metadata": {
  "kernelspec": {
   "display_name": "Python 3",
   "language": "python",
   "name": "python3"
  },
  "language_info": {
   "codemirror_mode": {
    "name": "ipython",
    "version": 3
   },
   "file_extension": ".py",
   "mimetype": "text/x-python",
   "name": "python",
   "nbconvert_exporter": "python",
   "pygments_lexer": "ipython3",
   "version": "3.6.5"
  }
 },
 "nbformat": 4,
 "nbformat_minor": 1
}
